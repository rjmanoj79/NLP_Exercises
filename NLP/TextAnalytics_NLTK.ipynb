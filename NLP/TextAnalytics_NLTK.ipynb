{
 "cells": [
  {
   "cell_type": "code",
   "execution_count": 46,
   "metadata": {},
   "outputs": [],
   "source": [
    "import matplotlib.pyplot as plt\n",
    "import nltk\n",
    "from nltk.tokenize import sent_tokenize, word_tokenize\n",
    "from nltk.probability import FreqDist"
   ]
  },
  {
   "cell_type": "code",
   "execution_count": 56,
   "metadata": {},
   "outputs": [],
   "source": [
    "text=\"\"\"Hello Mr. Smith, how are you doing today? the weather is great, and city is awesome.\n",
    "the sky is pinkish-blue. You shouldn't eat cardboard. hello Mr.Smith.\"\"\""
   ]
  },
  {
   "cell_type": "markdown",
   "metadata": {},
   "source": [
    "### Step:1 Tokenization"
   ]
  },
  {
   "cell_type": "code",
   "execution_count": 57,
   "metadata": {},
   "outputs": [
    {
     "name": "stdout",
     "output_type": "stream",
     "text": [
      "['Hello Mr. Smith, how are you doing today?', 'the weather is great, and city is awesome.', 'the sky is pinkish-blue.', \"You shouldn't eat cardboard.\", 'hello Mr.Smith.']\n"
     ]
    }
   ],
   "source": [
    "tokenized_text=sent_tokenize(text)\n",
    "print(tokenized_text)"
   ]
  },
  {
   "cell_type": "code",
   "execution_count": 58,
   "metadata": {},
   "outputs": [
    {
     "name": "stdout",
     "output_type": "stream",
     "text": [
      "['Hello', 'Mr.', 'Smith', ',', 'how', 'are', 'you', 'doing', 'today', '?', 'the', 'weather', 'is', 'great', ',', 'and', 'city', 'is', 'awesome', '.', 'the', 'sky', 'is', 'pinkish-blue', '.', 'You', 'should', \"n't\", 'eat', 'cardboard', '.', 'hello', 'Mr.Smith', '.']\n"
     ]
    }
   ],
   "source": [
    "tokenized_word=word_tokenize(text)\n",
    "print(tokenized_word)"
   ]
  },
  {
   "cell_type": "code",
   "execution_count": 59,
   "metadata": {},
   "outputs": [
    {
     "data": {
      "image/png": "[encoded data removed]",
      "text/plain": [
       "<Figure size 432x288 with 1 Axes>"
      ]
     },
     "metadata": {
      "needs_background": "light"
     },
     "output_type": "display_data"
    }
   ],
   "source": [
    "fdist = FreqDist(tokenized_word)\n",
    "fdist.plot(30,cumulative=False)\n",
    "plt.show()"
   ]
  },
  {
   "cell_type": "markdown",
   "metadata": {},
   "source": [
    "### Step: 2 Removing Stop Words"
   ]
  },
  {
   "cell_type": "code",
   "execution_count": 60,
   "metadata": {},
   "outputs": [
    {
     "name": "stdout",
     "output_type": "stream",
     "text": [
      "{'were', \"aren't\", 'up', 'd', 'in', 'a', 'being', 'it', \"you'll\", 'our', 'be', 'from', 'further', \"mightn't\", \"shouldn't\", \"couldn't\", \"haven't\", 'above', 'on', 'of', 'when', 'was', 'aren', 'shouldn', 'both', \"you're\", 'mustn', 'whom', 'will', 'wasn', 'there', 'my', 'so', 'through', 'couldn', 'against', 'by', 'won', 'yours', 'because', 'are', 'haven', 'doing', 'the', 'or', 'herself', 'while', 'yourself', 'who', \"wasn't\", 'what', 'during', 'same', \"don't\", 'don', 'below', 'll', 'not', 'ours', 'few', 't', \"didn't\", 'then', \"doesn't\", 'o', 'can', 'hasn', 'out', 'has', 'you', 'weren', 'he', 'before', 'just', \"hadn't\", 'isn', 'nor', 'did', 'them', 'very', \"weren't\", 'y', 'which', 'than', 'him', 've', 'her', 'for', 'ourselves', 'at', 'do', 'she', 'yourselves', 'his', 'most', 'they', 's', 'does', 'no', 'myself', \"you'd\", 'been', 're', 'ma', 'any', 'their', 'off', 'after', 'each', 'other', 'with', 'should', 'theirs', 'those', 'into', \"it's\", 'hadn', 'that', 'more', 'itself', 'once', 'own', \"mustn't\", 'have', 'until', 'themselves', 'is', 'your', 'but', 'between', \"you've\", 'such', 'too', 'why', 'himself', 'down', 'if', 'wouldn', 'some', 'these', \"wouldn't\", 'didn', 'ain', \"shan't\", 'only', 'now', 'needn', 'here', 'this', 'its', 'again', 'doesn', 'i', 'had', \"she's\", \"that'll\", 'am', \"needn't\", 'hers', 'how', 'all', 'having', 'under', 'about', 'mightn', 'shan', \"isn't\", 'as', \"should've\", \"won't\", 'an', 'we', \"hasn't\", 'where', 'over', 'to', 'and', 'm', 'me'}\n"
     ]
    }
   ],
   "source": [
    "from nltk.corpus import stopwords\n",
    "stop_words=set(stopwords.words(\"english\"))\n",
    "print(stop_words)"
   ]
  },
  {
   "cell_type": "code",
   "execution_count": 61,
   "metadata": {},
   "outputs": [
    {
     "name": "stdout",
     "output_type": "stream",
     "text": [
      "Tokenized Sentence: ['Hello', 'Mr.', 'Smith', ',', 'how', 'are', 'you', 'doing', 'today', '?', 'the', 'weather', 'is', 'great', ',', 'and', 'city', 'is', 'awesome', '.', 'the', 'sky', 'is', 'pinkish-blue', '.', 'You', 'should', \"n't\", 'eat', 'cardboard', '.', 'hello', 'Mr.Smith', '.']\n",
      "Filterd Sentence: ['Hello', 'Mr.', 'Smith', ',', 'today', '?', 'weather', 'great', ',', 'city', 'awesome', '.', 'sky', 'pinkish-blue', '.', 'You', \"n't\", 'eat', 'cardboard', '.', 'hello', 'Mr.Smith', '.']\n"
     ]
    }
   ],
   "source": [
    "filtered_sent=[]\n",
    "for word in tokenized_word:\n",
    "    if word not in stop_words:\n",
    "        filtered_sent.append(word)\n",
    "print(\"Tokenized Sentence:\",tokenized_word)\n",
    "print(\"Filterd Sentence:\",filtered_sent)"
   ]
  },
  {
   "cell_type": "markdown",
   "metadata": {},
   "source": [
    "### Step 3: Stemming"
   ]
  },
  {
   "cell_type": "code",
   "execution_count": 62,
   "metadata": {},
   "outputs": [
    {
     "name": "stdout",
     "output_type": "stream",
     "text": [
      "Filtered Sentence: ['Hello', 'Mr.', 'Smith', ',', 'today', '?', 'weather', 'great', ',', 'city', 'awesome', '.', 'sky', 'pinkish-blue', '.', 'You', \"n't\", 'eat', 'cardboard', '.', 'hello', 'Mr.Smith', '.']\n",
      "Stemmed Sentence: ['hello', 'mr.', 'smith', ',', 'today', '?', 'weather', 'great', ',', 'citi', 'awesom', '.', 'sky', 'pinkish-blu', '.', 'you', \"n't\", 'eat', 'cardboard', '.', 'hello', 'mr.smith', '.']\n"
     ]
    }
   ],
   "source": [
    "from nltk.stem import PorterStemmer\n",
    "\n",
    "ps = PorterStemmer()\n",
    "\n",
    "stemmed_words=[]\n",
    "for w in filtered_sent:\n",
    "    stemmed_words.append(ps.stem(w))\n",
    "\n",
    "print(\"Filtered Sentence:\",filtered_sent)\n",
    "print(\"Stemmed Sentence:\",stemmed_words)"
   ]
  },
  {
   "cell_type": "code",
   "execution_count": 63,
   "metadata": {},
   "outputs": [
    {
     "name": "stdout",
     "output_type": "stream",
     "text": [
      "Lemmatized Word: fly\n",
      "Stemmed Word: fli\n"
     ]
    }
   ],
   "source": [
    "from nltk.stem.wordnet import WordNetLemmatizer\n",
    "\n",
    "lem = WordNetLemmatizer()\n",
    "stem = PorterStemmer()\n",
    "\n",
    "word = \"flying\"\n",
    "print(\"Lemmatized Word:\",lem.lemmatize(word,\"v\"))\n",
    "print(\"Stemmed Word:\",stem.stem(word))"
   ]
  },
  {
   "cell_type": "markdown",
   "metadata": {},
   "source": [
    "### Part-of-Speech (POS) "
   ]
  },
  {
   "cell_type": "code",
   "execution_count": 69,
   "metadata": {},
   "outputs": [
    {
     "name": "stdout",
     "output_type": "stream",
     "text": [
      "Albert Einstein was born in Ulm, Germany in 1879.\n",
      "Joseph Manoj was born in India in 1979\n"
     ]
    },
    {
     "name": "stderr",
     "output_type": "stream",
     "text": [
      "C:\\Users\\49301\\AppData\\Local\\Continuum\\anaconda3\\lib\\site-packages\\ipykernel_launcher.py:1: DeprecationWarning: 'U' mode is deprecated\n",
      "  \"\"\"Entry point for launching an IPython kernel.\n"
     ]
    }
   ],
   "source": [
    "f=open(r'C:\\Users\\49301\\Desktop\\nltk_samp.txt','rU')\n",
    "raw=f.read()\n",
    "print(raw)"
   ]
  },
  {
   "cell_type": "code",
   "execution_count": 70,
   "metadata": {},
   "outputs": [
    {
     "name": "stdout",
     "output_type": "stream",
     "text": [
      "['Albert', 'Einstein', 'was', 'born', 'in', 'Ulm', ',', 'Germany', 'in', '1879', '.', 'Joseph', 'Manoj', 'was', 'born', 'in', 'India', 'in', '1979']\n"
     ]
    }
   ],
   "source": [
    "tokens=nltk.word_tokenize(raw)\n",
    "print(tokens)"
   ]
  },
  {
   "cell_type": "code",
   "execution_count": 71,
   "metadata": {},
   "outputs": [
    {
     "data": {
      "text/plain": [
       "[('Albert', 'NNP'),\n",
       " ('Einstein', 'NNP'),\n",
       " ('was', 'VBD'),\n",
       " ('born', 'VBN'),\n",
       " ('in', 'IN'),\n",
       " ('Ulm', 'NNP'),\n",
       " (',', ','),\n",
       " ('Germany', 'NNP'),\n",
       " ('in', 'IN'),\n",
       " ('1879', 'CD'),\n",
       " ('.', '.'),\n",
       " ('Joseph', 'NNP'),\n",
       " ('Manoj', 'NNP'),\n",
       " ('was', 'VBD'),\n",
       " ('born', 'VBN'),\n",
       " ('in', 'IN'),\n",
       " ('India', 'NNP'),\n",
       " ('in', 'IN'),\n",
       " ('1979', 'CD')]"
      ]
     },
     "execution_count": 71,
     "metadata": {},
     "output_type": "execute_result"
    }
   ],
   "source": [
    "nltk.pos_tag(tokens)"
   ]
  }
 ],
 "metadata": {
  "kernelspec": {
   "display_name": "Python 3",
   "language": "python",
   "name": "python3"
  },
  "language_info": {
   "codemirror_mode": {
    "name": "ipython",
    "version": 3
   },
   "file_extension": ".py",
   "mimetype": "text/x-python",
   "name": "python",
   "nbconvert_exporter": "python",
   "pygments_lexer": "ipython3",
   "version": "3.7.0"
  }
 },
 "nbformat": 4,
 "nbformat_minor": 2
}
